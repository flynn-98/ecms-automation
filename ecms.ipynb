{
 "cells": [
  {
   "cell_type": "markdown",
   "id": "39b7580b",
   "metadata": {},
   "source": [
    "## Code for CO2 Bubbling -> ECMS Demonstration\n",
    "\n",
    "Go to *Platformio > Devices* to find COM port address."
   ]
  },
  {
   "cell_type": "code",
   "execution_count": null,
   "id": "89007e0f",
   "metadata": {},
   "outputs": [],
   "source": [
    "%load_ext autoreload\n",
    "%autoreload 2\n",
    "\n",
    "from src.pump_controller import ECMSController\n",
    "\n",
    "ecms_handler = ECMSController(COM=\"/dev/cu.usbmodem11201\", sim=False)"
   ]
  },
  {
   "cell_type": "markdown",
   "id": "d404de2a",
   "metadata": {},
   "source": [
    "## Set CO2 Bubbling & Dilution Parameters"
   ]
  },
  {
   "cell_type": "code",
   "execution_count": null,
   "id": "59fed05d",
   "metadata": {},
   "outputs": [],
   "source": [
    "# Dilution parameters\n",
    "total_volume = 30 #ml\n",
    "khco3_volume = 0.1 * total_volume #ml\n",
    "water_volume = total_volume - khco3_volume #ml\n",
    "\n",
    "# CO2 parameters\n",
    "CO2_bubbling = 0.5 #mins\n",
    "\n",
    "# Tube lengths\n",
    "chemical_to_mixture = 600 #mm\n",
    "water_to_mixture = 600 #mm\n",
    "bubbler_to_ecms = 1000 #mm"
   ]
  },
  {
   "cell_type": "code",
   "execution_count": null,
   "id": "c3830a2e",
   "metadata": {},
   "outputs": [],
   "source": [
    "ecms_handler.releaseCO2(duration=10)"
   ]
  },
  {
   "cell_type": "markdown",
   "id": "dac5031e",
   "metadata": {},
   "source": [
    "## Prime Water & Chemical Lines"
   ]
  },
  {
   "cell_type": "code",
   "execution_count": null,
   "id": "72b476fd",
   "metadata": {},
   "outputs": [],
   "source": [
    "# Only run if needed!\n",
    "ecms_handler.addChemical(tube_length=chemical_to_mixture, overpump=1.5)\n",
    "ecms_handler.addWater(fluid_vol=total_volume, tube_length=water_to_mixture, overpump=1.5)\n",
    "\n",
    "ecms_handler.sendToWaste()"
   ]
  },
  {
   "cell_type": "markdown",
   "id": "4062f566",
   "metadata": {},
   "source": [
    "## Run Procedure"
   ]
  },
  {
   "cell_type": "code",
   "execution_count": null,
   "id": "1ed904b9",
   "metadata": {},
   "outputs": [],
   "source": [
    "# Create mixture\n",
    "ecms_handler.addChemical(fluid_vol=khco3_volume)\n",
    "ecms_handler.addWater(fluid_vol=water_volume)\n",
    "\n",
    "# Bubble CO2\n",
    "ecms_handler.releaseCO2(duration=CO2_bubbling)\n",
    "\n",
    "# Transfer for measuring\n",
    "ecms_handler.sendToWaste()\n",
    "ecms_handler.sendToPH(tube_length=100)\n",
    "\n",
    "# Take measurement\n",
    "while not ecms_handler.checkPH():\n",
    "    ecms_handler.releaseCO2(duration=CO2_bubbling/3)\n",
    "    ecms_handler.sendToWaste()\n",
    "    ecms_handler.sendToPH(tube_length=100)\n",
    "\n",
    "# Remove electrolyte and wet pH probe\n",
    "ecms_handler.sendToWaste()\n",
    "ecms_handler.refreshWater()\n",
    "\n",
    "# Transfer to ECMS\n",
    "ecms_handler.transferToECMS(fluid_vol=total_volume-ecms_handler.pH_volume, tube_length=bubbler_to_ecms)\n",
    "\n",
    "# Empty pH lines\n",
    "ecms_handler.sendToPH()"
   ]
  }
 ],
 "metadata": {
  "kernelspec": {
   "display_name": ".venv",
   "language": "python",
   "name": "python3"
  },
  "language_info": {
   "codemirror_mode": {
    "name": "ipython",
    "version": 3
   },
   "file_extension": ".py",
   "mimetype": "text/x-python",
   "name": "python",
   "nbconvert_exporter": "python",
   "pygments_lexer": "ipython3",
   "version": "3.10.0"
  }
 },
 "nbformat": 4,
 "nbformat_minor": 5
}
