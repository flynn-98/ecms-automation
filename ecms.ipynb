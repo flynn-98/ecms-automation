{
 "cells": [
  {
   "cell_type": "markdown",
   "id": "39b7580b",
   "metadata": {},
   "source": [
    "## Code for CO2 Bubbling -> ECMS Demonstration\n",
    "\n",
    "Go to *Platformio > Devices* to find COM port address."
   ]
  },
  {
   "cell_type": "code",
   "execution_count": 6,
   "id": "89007e0f",
   "metadata": {},
   "outputs": [
    {
     "name": "stderr",
     "output_type": "stream",
     "text": [
      "INFO:root:Configuring EC-MS controller serial port..\n",
      "INFO:root:Attempting to open EC-MS controller serial port..\n"
     ]
    },
    {
     "name": "stdout",
     "output_type": "stream",
     "text": [
      "The autoreload extension is already loaded. To reload it, use:\n",
      "  %reload_ext autoreload\n"
     ]
    },
    {
     "name": "stderr",
     "output_type": "stream",
     "text": [
      "INFO:root:Successful response from EC-MS controller: # SDL Board Ready\n"
     ]
    }
   ],
   "source": [
    "%load_ext autoreload\n",
    "%autoreload 2\n",
    "\n",
    "from src.pump_controller import ECMSController\n",
    "\n",
    "ecms_handler = ECMSController(COM=\"/dev/cu.wchusbserial110\", sim=False)"
   ]
  },
  {
   "cell_type": "markdown",
   "id": "d404de2a",
   "metadata": {},
   "source": [
    "## Set CO2 Bubbling & Dilution Parameters"
   ]
  },
  {
   "cell_type": "code",
   "execution_count": 2,
   "id": "59fed05d",
   "metadata": {},
   "outputs": [],
   "source": [
    "# Dilution parameters\n",
    "total_volume = 10 #ml\n",
    "khco3_volume = 0.2 * total_volume #ml\n",
    "water_volume = total_volume - khco3_volume #ml\n",
    "\n",
    "# CO2 parameters\n",
    "CO2_bubbling = 30 #s\n",
    "\n",
    "mixture_to_ecms = 550 #mm (slightly faster)"
   ]
  },
  {
   "cell_type": "markdown",
   "id": "0f296f92",
   "metadata": {},
   "source": [
    "### Turn on CO2 Valve"
   ]
  },
  {
   "cell_type": "code",
   "execution_count": null,
   "id": "c3830a2e",
   "metadata": {},
   "outputs": [],
   "source": [
    "ecms_handler.releaseCO2(duration=5)"
   ]
  },
  {
   "cell_type": "markdown",
   "id": "dac5031e",
   "metadata": {},
   "source": [
    "## Prime Water & Chemical Lines"
   ]
  },
  {
   "cell_type": "code",
   "execution_count": null,
   "id": "72b476fd",
   "metadata": {},
   "outputs": [],
   "source": [
    "# Deprime first for safety\n",
    "ecms_handler.deprime()\n",
    "\n",
    "# Primes up to mixing chamber\n",
    "ecms_handler.prime()"
   ]
  },
  {
   "cell_type": "markdown",
   "id": "4062f566",
   "metadata": {},
   "source": [
    "## Run Procedure"
   ]
  },
  {
   "cell_type": "code",
   "execution_count": 3,
   "id": "1ed904b9",
   "metadata": {},
   "outputs": [
    {
     "name": "stderr",
     "output_type": "stream",
     "text": [
      "INFO:root:Pumping 2.0ml of chemical to mixing pot..\n",
      "INFO:root:Successful response from EC-MS controller: # Chemical added\n",
      "INFO:root:Pumping 8.0ml of water to mixing pot..\n",
      "INFO:root:Successful response from EC-MS controller: # Water added\n",
      "INFO:root:Opening CO2 valve for 30s..\n",
      "INFO:root:Successful response from EC-MS controller: # CO2 dosing complete\n",
      "INFO:root:Sending to waste from pH chamber (10s)..\n",
      "INFO:root:Successful response from EC-MS controller: # Sent to Waste\n",
      "INFO:root:Pumping 5ml of chemical to pH chamber..\n",
      "INFO:root:Successful response from EC-MS controller: # Mixture sent to pH chamber\n",
      "INFO:root:Sending to waste from pH chamber (10s)..\n",
      "INFO:root:Successful response from EC-MS controller: # Sent to Waste\n",
      "INFO:root:Sending to water to pH chamber (4s)..\n",
      "INFO:root:Successful response from EC-MS controller: # Refreshed Water\n",
      "INFO:root:Pumping 0ml of saturated mixture to EC-MS..\n",
      "INFO:root:Successful response from EC-MS controller: # Mixture sent to ECMS\n"
     ]
    }
   ],
   "source": [
    "# Create mixture\n",
    "ecms_handler.addChemical(fluid_vol=khco3_volume)\n",
    "ecms_handler.addWater(fluid_vol=water_volume)\n",
    "\n",
    "# Bubble CO2\n",
    "ecms_handler.releaseCO2(duration=CO2_bubbling)\n",
    "\n",
    "# Transfer for measuring\n",
    "ecms_handler.sendToWaste()\n",
    "ecms_handler.sendToPH()\n",
    "\n",
    "# Take measurement\n",
    "#while not ecms_handler.checkPH():\n",
    "    #ecms_handler.releaseCO2(duration=CO2_bubbling/3)\n",
    "    #ecms_handler.sendToWaste()\n",
    "    #ecms_handler.sendToPH()\n",
    "\n",
    "# Remove electrolyte and wet pH probe\n",
    "ecms_handler.sendToWaste()\n",
    "ecms_handler.refreshWater()\n",
    "\n",
    "# Transfer to ECMS (prime mixture up to cell)\n",
    "ecms_handler.transferToECMS(tube_length=mixture_to_ecms, flow_rate=0.1)\n"
   ]
  },
  {
   "cell_type": "markdown",
   "id": "8d350099",
   "metadata": {},
   "source": [
    "## Repeated Cell Flushing & Measurements"
   ]
  },
  {
   "cell_type": "code",
   "execution_count": null,
   "id": "044f2180",
   "metadata": {},
   "outputs": [],
   "source": [
    "cell_volume = 0.1 #ml\n",
    "flush_volume = 0.2 #ml\n",
    "repeats = 5"
   ]
  },
  {
   "cell_type": "markdown",
   "id": "48aeecd6",
   "metadata": {},
   "source": [
    "### Fill Cell"
   ]
  },
  {
   "cell_type": "code",
   "execution_count": null,
   "id": "d2192418",
   "metadata": {},
   "outputs": [
    {
     "name": "stderr",
     "output_type": "stream",
     "text": [
      "INFO:root:Pumping 0ml of saturated mixture to EC-MS..\n",
      "INFO:root:Successful response from EC-MS controller: # Mixture sent to ECMS\n"
     ]
    }
   ],
   "source": [
    "ecms_handler.transferToECMS(fluid_vol=cell_volume)"
   ]
  },
  {
   "cell_type": "markdown",
   "id": "81130d24",
   "metadata": {},
   "source": [
    "### Flush Cell"
   ]
  },
  {
   "cell_type": "code",
   "execution_count": null,
   "id": "01169df8",
   "metadata": {},
   "outputs": [],
   "source": [
    "ecms_handler.transferToECMS(fluid_vol=flush_volume)"
   ]
  },
  {
   "cell_type": "markdown",
   "id": "1dddd8d9",
   "metadata": {},
   "source": [
    "### Return remainder to mixing chamber"
   ]
  },
  {
   "cell_type": "code",
   "execution_count": null,
   "id": "87a6f9d2",
   "metadata": {},
   "outputs": [],
   "source": [
    "ecms_handler.transferToECMS(tube_length=-mixture_to_ecms, overpump=1.5)"
   ]
  },
  {
   "cell_type": "markdown",
   "id": "63d692e0",
   "metadata": {},
   "source": [
    "### Deprime"
   ]
  },
  {
   "cell_type": "code",
   "execution_count": null,
   "id": "b96c011e",
   "metadata": {},
   "outputs": [],
   "source": [
    "# Deprime\n",
    "ecms_handler.deprime()\n",
    "\n",
    "# Empty to waste & refresh water in pH tube\n",
    "ecms_handler.sendToPH()\n",
    "ecms_handler.sendToWaste()\n",
    "ecms_handler.refreshWater()"
   ]
  }
 ],
 "metadata": {
  "kernelspec": {
   "display_name": ".venv",
   "language": "python",
   "name": "python3"
  },
  "language_info": {
   "codemirror_mode": {
    "name": "ipython",
    "version": 3
   },
   "file_extension": ".py",
   "mimetype": "text/x-python",
   "name": "python",
   "nbconvert_exporter": "python",
   "pygments_lexer": "ipython3",
   "version": "3.10.0"
  }
 },
 "nbformat": 4,
 "nbformat_minor": 5
}
